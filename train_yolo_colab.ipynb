{
  "nbformat": 4,
  "nbformat_minor": 0,
  "metadata": {
    "colab": {
      "provenance": [],
      "gpuType": "T4"
    },
    "kernelspec": {
      "name": "python3",
      "display_name": "Python 3"
    },
    "language_info": {
      "name": "python"
    },
    "accelerator": "GPU"
  },
  "cells": [
    {
      "cell_type": "code",
      "execution_count": null,
      "metadata": {
        "id": "k-m_DVBJvFMB"
      },
      "outputs": [],
      "source": [
        "!unzip dip_dataset.zip"
      ]
    },
    {
      "cell_type": "code",
      "source": [
        "!pip uninstall ultralytics"
      ],
      "metadata": {
        "id": "bMZwYjlziJ4l"
      },
      "execution_count": null,
      "outputs": []
    },
    {
      "cell_type": "code",
      "source": [
        "import ultralytics\n",
        "\n",
        "ultralytics.checks()"
      ],
      "metadata": {
        "id": "Vvr2Mbgywz7P"
      },
      "execution_count": null,
      "outputs": []
    },
    {
      "cell_type": "code",
      "source": [
        "from ultralytics.data.utils import autosplit\n",
        "\n",
        "autosplit(path = 'images', weights = (0.8, 0.1, 0.1))"
      ],
      "metadata": {
        "id": "HthHxK65-QQg"
      },
      "execution_count": null,
      "outputs": []
    },
    {
      "cell_type": "code",
      "source": [
        "from natsort import natsorted, ns\n",
        "import os\n",
        "import shutil\n",
        "from skimage.transform import resize, rescale\n",
        "from skimage.io import imsave, imread\n",
        "import numpy as np\n",
        "import cv2\n",
        "from pathlib import Path\n",
        "\n",
        "classes = ['capacitor', 'potentiometer', 'led', 'diode', 'resistor', 'integrated_circuit', 'transistor', 'switch', 'inductor', 'jumper']\n",
        "\n",
        "fil = 'test'\n",
        "\n",
        "for classe in classes:\n",
        "    os.makedirs(os.path.join(fil, classe), exist_ok=True)\n",
        "\n",
        "with open('autosplit_' + fil + '.txt') as f:\n",
        "    for line in f:\n",
        "        line = line[:-1]\n",
        "        dest = line.replace('images', 'datasets/dip/'+fil)\n",
        "        shutil.copy(line, dest)\n",
        "        try:\n",
        "          shutil.copy(line[:-3]+'txt', dest[:-3]+'txt')\n",
        "        except:\n",
        "          try:\n",
        "            shutil.copy(line[:-8]+'.txt', dest[:-3]+'txt')\n",
        "          except:\n",
        "            shutil.copy(line[:-9]+'.txt', dest[:-3]+'txt')"
      ],
      "metadata": {
        "id": "V7SFTsaf0VaQ"
      },
      "execution_count": null,
      "outputs": []
    },
    {
      "cell_type": "code",
      "source": [
        "import pathlib\n",
        "\n",
        "path_root = pathlib.Path('./')\n",
        "path_imgs = pathlib.Path('./images')"
      ],
      "metadata": {
        "id": "F_ciL_8k42kH"
      },
      "execution_count": null,
      "outputs": []
    },
    {
      "cell_type": "code",
      "source": [
        "import skimage as ski\n",
        "import numpy as np\n",
        "import cv2\n",
        "\n",
        "N = 9\n",
        "kernel = np.ones(N)/(N)\n",
        "kernel = np.reshape(kernel, (3, 3))\n",
        "\n",
        "for folder in path_imgs.iterdir():\n",
        "  for item in folder.iterdir():\n",
        "    if item.suffix == '.txt':\n",
        "      continue\n",
        "    image = ski.io.imread(item)\n",
        "\n",
        "    c = 255 / np.log(1 + np.max(image))\n",
        "    log_image = c * (np.log(image + 1))\n",
        "    exp_image = (np.exp(image / c) - 1)\n",
        "\n",
        "    log_image = np.array(log_image, dtype = np.uint8)\n",
        "    exp_image = np.array(exp_image, dtype = np.uint8)\n",
        "    mean_image = cv2.filter2D(image, ddepth=-1, kernel=kernel)\n",
        "\n",
        "    log_image = cv2.cvtColor(log_image, cv2.COLOR_RGB2BGR)\n",
        "    exp_image = cv2.cvtColor(exp_image, cv2.COLOR_RGB2BGR)\n",
        "    mean_image = cv2.cvtColor(mean_image, cv2.COLOR_RGB2BGR)\n",
        "\n",
        "    cv2.imwrite(os.path.join('images', folder.name, item.name[:-4]+'_log'+'.png'), log_image)\n",
        "    cv2.imwrite(os.path.join('images', folder.name, item.name[:-4]+'_exp'+'.png'), exp_image)\n",
        "    cv2.imwrite(os.path.join('images', folder.name, item.name[:-4]+'_mean'+'.png'), mean_image)"
      ],
      "metadata": {
        "id": "huT3fvvb4wh5"
      },
      "execution_count": null,
      "outputs": []
    },
    {
      "cell_type": "code",
      "source": [
        "# prompt: setup training for a classifier model using yolov8\n",
        "\n",
        "from ultralytics import YOLO\n",
        "\n",
        "# Load a model\n",
        "model = YOLO('yolov8n.pt')  # load a pretrained model (recommended for training)\n",
        "\n",
        "# Use the model\n",
        "results = model.train(data='dip.yaml', epochs=12, imgsz=640) # train the model\n"
      ],
      "metadata": {
        "id": "84VVPLhyw8aD"
      },
      "execution_count": null,
      "outputs": []
    },
    {
      "cell_type": "code",
      "source": [
        "from ultralytics import YOLO\n",
        "\n",
        "model = YOLO('runs/classify/train5/weights/best.pt')"
      ],
      "metadata": {
        "id": "fZgGH3bWFjD7"
      },
      "execution_count": null,
      "outputs": []
    },
    {
      "cell_type": "code",
      "source": [
        "!zip -r train.zip runs/classify/train5"
      ],
      "metadata": {
        "id": "feNOUEKMHtYJ"
      },
      "execution_count": null,
      "outputs": []
    }
  ]
}